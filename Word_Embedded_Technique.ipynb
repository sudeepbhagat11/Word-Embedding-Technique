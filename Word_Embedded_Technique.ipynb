{
  "nbformat": 4,
  "nbformat_minor": 0,
  "metadata": {
    "colab": {
      "provenance": [],
      "gpuType": "T4",
      "authorship_tag": "ABX9TyMTa3D/n/lfn0o4Fo2FIBJ3",
      "include_colab_link": true
    },
    "kernelspec": {
      "name": "python3",
      "display_name": "Python 3"
    },
    "language_info": {
      "name": "python"
    },
    "accelerator": "GPU"
  },
  "cells": [
    {
      "cell_type": "markdown",
      "metadata": {
        "id": "view-in-github",
        "colab_type": "text"
      },
      "source": [
        "<a href=\"https://colab.research.google.com/github/sudeepbhagat11/Word-Embedding-Technique/blob/main/Word_Embedded_Technique.ipynb\" target=\"_parent\"><img src=\"https://colab.research.google.com/assets/colab-badge.svg\" alt=\"Open In Colab\"/></a>"
      ]
    },
    {
      "cell_type": "markdown",
      "source": [
        "# Word Embedding Techniques using Embedding Layer in Keras\n",
        "\n",
        "1.   List item\n",
        "2.   List item\n",
        "\n",
        "\n"
      ],
      "metadata": {
        "id": "UdqBeMzQfUg3"
      }
    },
    {
      "cell_type": "code",
      "source": [
        "!pip install tensorflow==2.12.0"
      ],
      "metadata": {
        "colab": {
          "base_uri": "https://localhost:8080/",
          "height": 1000
        },
        "id": "vCh4T1ZCbBrk",
        "outputId": "373e3b34-4512-4e74-e383-8298de48b3c9"
      },
      "execution_count": 5,
      "outputs": [
        {
          "output_type": "stream",
          "name": "stdout",
          "text": [
            "Collecting tensorflow==2.12.0\n",
            "  Downloading tensorflow-2.12.0-cp310-cp310-manylinux_2_17_x86_64.manylinux2014_x86_64.whl.metadata (3.4 kB)\n",
            "Requirement already satisfied: absl-py>=1.0.0 in /usr/local/lib/python3.10/dist-packages (from tensorflow==2.12.0) (1.4.0)\n",
            "Requirement already satisfied: astunparse>=1.6.0 in /usr/local/lib/python3.10/dist-packages (from tensorflow==2.12.0) (1.6.3)\n",
            "Requirement already satisfied: flatbuffers>=2.0 in /usr/local/lib/python3.10/dist-packages (from tensorflow==2.12.0) (24.3.25)\n",
            "Collecting gast<=0.4.0,>=0.2.1 (from tensorflow==2.12.0)\n",
            "  Downloading gast-0.4.0-py3-none-any.whl.metadata (1.1 kB)\n",
            "Requirement already satisfied: google-pasta>=0.1.1 in /usr/local/lib/python3.10/dist-packages (from tensorflow==2.12.0) (0.2.0)\n",
            "Requirement already satisfied: grpcio<2.0,>=1.24.3 in /usr/local/lib/python3.10/dist-packages (from tensorflow==2.12.0) (1.64.1)\n",
            "Requirement already satisfied: h5py>=2.9.0 in /usr/local/lib/python3.10/dist-packages (from tensorflow==2.12.0) (3.9.0)\n",
            "Requirement already satisfied: jax>=0.3.15 in /usr/local/lib/python3.10/dist-packages (from tensorflow==2.12.0) (0.4.26)\n",
            "Collecting keras<2.13,>=2.12.0 (from tensorflow==2.12.0)\n",
            "  Downloading keras-2.12.0-py2.py3-none-any.whl.metadata (1.4 kB)\n",
            "Requirement already satisfied: libclang>=13.0.0 in /usr/local/lib/python3.10/dist-packages (from tensorflow==2.12.0) (18.1.1)\n",
            "Collecting numpy<1.24,>=1.22 (from tensorflow==2.12.0)\n",
            "  Downloading numpy-1.23.5-cp310-cp310-manylinux_2_17_x86_64.manylinux2014_x86_64.whl.metadata (2.3 kB)\n",
            "Requirement already satisfied: opt-einsum>=2.3.2 in /usr/local/lib/python3.10/dist-packages (from tensorflow==2.12.0) (3.3.0)\n",
            "Requirement already satisfied: packaging in /usr/local/lib/python3.10/dist-packages (from tensorflow==2.12.0) (24.1)\n",
            "Requirement already satisfied: protobuf!=4.21.0,!=4.21.1,!=4.21.2,!=4.21.3,!=4.21.4,!=4.21.5,<5.0.0dev,>=3.20.3 in /usr/local/lib/python3.10/dist-packages (from tensorflow==2.12.0) (3.20.3)\n",
            "Requirement already satisfied: setuptools in /usr/local/lib/python3.10/dist-packages (from tensorflow==2.12.0) (71.1.0)\n",
            "Requirement already satisfied: six>=1.12.0 in /usr/local/lib/python3.10/dist-packages (from tensorflow==2.12.0) (1.16.0)\n",
            "Collecting tensorboard<2.13,>=2.12 (from tensorflow==2.12.0)\n",
            "  Downloading tensorboard-2.12.3-py3-none-any.whl.metadata (1.8 kB)\n",
            "Collecting tensorflow-estimator<2.13,>=2.12.0 (from tensorflow==2.12.0)\n",
            "  Downloading tensorflow_estimator-2.12.0-py2.py3-none-any.whl.metadata (1.3 kB)\n",
            "Requirement already satisfied: termcolor>=1.1.0 in /usr/local/lib/python3.10/dist-packages (from tensorflow==2.12.0) (2.4.0)\n",
            "Requirement already satisfied: typing-extensions>=3.6.6 in /usr/local/lib/python3.10/dist-packages (from tensorflow==2.12.0) (4.12.2)\n",
            "Requirement already satisfied: wrapt<1.15,>=1.11.0 in /usr/local/lib/python3.10/dist-packages (from tensorflow==2.12.0) (1.14.1)\n",
            "Requirement already satisfied: tensorflow-io-gcs-filesystem>=0.23.1 in /usr/local/lib/python3.10/dist-packages (from tensorflow==2.12.0) (0.37.1)\n",
            "Requirement already satisfied: wheel<1.0,>=0.23.0 in /usr/local/lib/python3.10/dist-packages (from astunparse>=1.6.0->tensorflow==2.12.0) (0.43.0)\n",
            "Requirement already satisfied: ml-dtypes>=0.2.0 in /usr/local/lib/python3.10/dist-packages (from jax>=0.3.15->tensorflow==2.12.0) (0.2.0)\n",
            "Requirement already satisfied: scipy>=1.9 in /usr/local/lib/python3.10/dist-packages (from jax>=0.3.15->tensorflow==2.12.0) (1.11.4)\n",
            "Requirement already satisfied: google-auth<3,>=1.6.3 in /usr/local/lib/python3.10/dist-packages (from tensorboard<2.13,>=2.12->tensorflow==2.12.0) (2.27.0)\n",
            "Collecting google-auth-oauthlib<1.1,>=0.5 (from tensorboard<2.13,>=2.12->tensorflow==2.12.0)\n",
            "  Downloading google_auth_oauthlib-1.0.0-py2.py3-none-any.whl.metadata (2.7 kB)\n",
            "Requirement already satisfied: markdown>=2.6.8 in /usr/local/lib/python3.10/dist-packages (from tensorboard<2.13,>=2.12->tensorflow==2.12.0) (3.6)\n",
            "Requirement already satisfied: requests<3,>=2.21.0 in /usr/local/lib/python3.10/dist-packages (from tensorboard<2.13,>=2.12->tensorflow==2.12.0) (2.31.0)\n",
            "Requirement already satisfied: tensorboard-data-server<0.8.0,>=0.7.0 in /usr/local/lib/python3.10/dist-packages (from tensorboard<2.13,>=2.12->tensorflow==2.12.0) (0.7.2)\n",
            "Requirement already satisfied: werkzeug>=1.0.1 in /usr/local/lib/python3.10/dist-packages (from tensorboard<2.13,>=2.12->tensorflow==2.12.0) (3.0.3)\n",
            "Requirement already satisfied: cachetools<6.0,>=2.0.0 in /usr/local/lib/python3.10/dist-packages (from google-auth<3,>=1.6.3->tensorboard<2.13,>=2.12->tensorflow==2.12.0) (5.4.0)\n",
            "Requirement already satisfied: pyasn1-modules>=0.2.1 in /usr/local/lib/python3.10/dist-packages (from google-auth<3,>=1.6.3->tensorboard<2.13,>=2.12->tensorflow==2.12.0) (0.4.0)\n",
            "Requirement already satisfied: rsa<5,>=3.1.4 in /usr/local/lib/python3.10/dist-packages (from google-auth<3,>=1.6.3->tensorboard<2.13,>=2.12->tensorflow==2.12.0) (4.9)\n",
            "Requirement already satisfied: requests-oauthlib>=0.7.0 in /usr/local/lib/python3.10/dist-packages (from google-auth-oauthlib<1.1,>=0.5->tensorboard<2.13,>=2.12->tensorflow==2.12.0) (1.3.1)\n",
            "Requirement already satisfied: charset-normalizer<4,>=2 in /usr/local/lib/python3.10/dist-packages (from requests<3,>=2.21.0->tensorboard<2.13,>=2.12->tensorflow==2.12.0) (3.3.2)\n",
            "Requirement already satisfied: idna<4,>=2.5 in /usr/local/lib/python3.10/dist-packages (from requests<3,>=2.21.0->tensorboard<2.13,>=2.12->tensorflow==2.12.0) (3.7)\n",
            "Requirement already satisfied: urllib3<3,>=1.21.1 in /usr/local/lib/python3.10/dist-packages (from requests<3,>=2.21.0->tensorboard<2.13,>=2.12->tensorflow==2.12.0) (2.0.7)\n",
            "Requirement already satisfied: certifi>=2017.4.17 in /usr/local/lib/python3.10/dist-packages (from requests<3,>=2.21.0->tensorboard<2.13,>=2.12->tensorflow==2.12.0) (2024.7.4)\n",
            "Requirement already satisfied: MarkupSafe>=2.1.1 in /usr/local/lib/python3.10/dist-packages (from werkzeug>=1.0.1->tensorboard<2.13,>=2.12->tensorflow==2.12.0) (2.1.5)\n",
            "Requirement already satisfied: pyasn1<0.7.0,>=0.4.6 in /usr/local/lib/python3.10/dist-packages (from pyasn1-modules>=0.2.1->google-auth<3,>=1.6.3->tensorboard<2.13,>=2.12->tensorflow==2.12.0) (0.6.0)\n",
            "Requirement already satisfied: oauthlib>=3.0.0 in /usr/local/lib/python3.10/dist-packages (from requests-oauthlib>=0.7.0->google-auth-oauthlib<1.1,>=0.5->tensorboard<2.13,>=2.12->tensorflow==2.12.0) (3.2.2)\n",
            "Downloading tensorflow-2.12.0-cp310-cp310-manylinux_2_17_x86_64.manylinux2014_x86_64.whl (585.9 MB)\n",
            "\u001b[2K   \u001b[90m━━━━━━━━━━━━━━━━━━━━━━━━━━━━━━━━━━━━━━━━\u001b[0m \u001b[32m585.9/585.9 MB\u001b[0m \u001b[31m2.3 MB/s\u001b[0m eta \u001b[36m0:00:00\u001b[0m\n",
            "\u001b[?25hDownloading gast-0.4.0-py3-none-any.whl (9.8 kB)\n",
            "Downloading keras-2.12.0-py2.py3-none-any.whl (1.7 MB)\n",
            "\u001b[2K   \u001b[90m━━━━━━━━━━━━━━━━━━━━━━━━━━━━━━━━━━━━━━━━\u001b[0m \u001b[32m1.7/1.7 MB\u001b[0m \u001b[31m6.4 MB/s\u001b[0m eta \u001b[36m0:00:00\u001b[0m\n",
            "\u001b[?25hDownloading numpy-1.23.5-cp310-cp310-manylinux_2_17_x86_64.manylinux2014_x86_64.whl (17.1 MB)\n",
            "\u001b[2K   \u001b[90m━━━━━━━━━━━━━━━━━━━━━━━━━━━━━━━━━━━━━━━━\u001b[0m \u001b[32m17.1/17.1 MB\u001b[0m \u001b[31m5.8 MB/s\u001b[0m eta \u001b[36m0:00:00\u001b[0m\n",
            "\u001b[?25hDownloading tensorboard-2.12.3-py3-none-any.whl (5.6 MB)\n",
            "\u001b[2K   \u001b[90m━━━━━━━━━━━━━━━━━━━━━━━━━━━━━━━━━━━━━━━━\u001b[0m \u001b[32m5.6/5.6 MB\u001b[0m \u001b[31m6.8 MB/s\u001b[0m eta \u001b[36m0:00:00\u001b[0m\n",
            "\u001b[?25hDownloading tensorflow_estimator-2.12.0-py2.py3-none-any.whl (440 kB)\n",
            "\u001b[2K   \u001b[90m━━━━━━━━━━━━━━━━━━━━━━━━━━━━━━━━━━━━━━━━\u001b[0m \u001b[32m440.7/440.7 kB\u001b[0m \u001b[31m6.6 MB/s\u001b[0m eta \u001b[36m0:00:00\u001b[0m\n",
            "\u001b[?25hDownloading google_auth_oauthlib-1.0.0-py2.py3-none-any.whl (18 kB)\n",
            "Installing collected packages: tensorflow-estimator, numpy, keras, gast, google-auth-oauthlib, tensorboard, tensorflow\n",
            "  Attempting uninstall: tensorflow-estimator\n",
            "    Found existing installation: tensorflow-estimator 2.15.0\n",
            "    Uninstalling tensorflow-estimator-2.15.0:\n",
            "      Successfully uninstalled tensorflow-estimator-2.15.0\n",
            "  Attempting uninstall: numpy\n",
            "    Found existing installation: numpy 1.25.2\n",
            "    Uninstalling numpy-1.25.2:\n",
            "      Successfully uninstalled numpy-1.25.2\n",
            "  Attempting uninstall: keras\n",
            "    Found existing installation: keras 2.15.0\n",
            "    Uninstalling keras-2.15.0:\n",
            "      Successfully uninstalled keras-2.15.0\n",
            "  Attempting uninstall: gast\n",
            "    Found existing installation: gast 0.6.0\n",
            "    Uninstalling gast-0.6.0:\n",
            "      Successfully uninstalled gast-0.6.0\n",
            "  Attempting uninstall: google-auth-oauthlib\n",
            "    Found existing installation: google-auth-oauthlib 1.2.1\n",
            "    Uninstalling google-auth-oauthlib-1.2.1:\n",
            "      Successfully uninstalled google-auth-oauthlib-1.2.1\n",
            "  Attempting uninstall: tensorboard\n",
            "    Found existing installation: tensorboard 2.15.2\n",
            "    Uninstalling tensorboard-2.15.2:\n",
            "      Successfully uninstalled tensorboard-2.15.2\n",
            "  Attempting uninstall: tensorflow\n",
            "    Found existing installation: tensorflow 2.15.0\n",
            "    Uninstalling tensorflow-2.15.0:\n",
            "      Successfully uninstalled tensorflow-2.15.0\n",
            "\u001b[31mERROR: pip's dependency resolver does not currently take into account all the packages that are installed. This behaviour is the source of the following dependency conflicts.\n",
            "chex 0.1.86 requires numpy>=1.24.1, but you have numpy 1.23.5 which is incompatible.\n",
            "pandas-stubs 2.0.3.230814 requires numpy>=1.25.0; python_version >= \"3.9\", but you have numpy 1.23.5 which is incompatible.\n",
            "tf-keras 2.15.1 requires tensorflow<2.16,>=2.15, but you have tensorflow 2.12.0 which is incompatible.\u001b[0m\u001b[31m\n",
            "\u001b[0mSuccessfully installed gast-0.4.0 google-auth-oauthlib-1.0.0 keras-2.12.0 numpy-1.23.5 tensorboard-2.12.3 tensorflow-2.12.0 tensorflow-estimator-2.12.0\n"
          ]
        },
        {
          "output_type": "display_data",
          "data": {
            "application/vnd.colab-display-data+json": {
              "pip_warning": {
                "packages": [
                  "numpy"
                ]
              },
              "id": "3a6d4645b9454b4cad9f73ba3af5cee8"
            }
          },
          "metadata": {}
        }
      ]
    },
    {
      "cell_type": "code",
      "source": [
        "import tensorflow as tf\n",
        "print(tf.__version__)"
      ],
      "metadata": {
        "colab": {
          "base_uri": "https://localhost:8080/"
        },
        "id": "Q96Y0qxRbq3R",
        "outputId": "4886d68f-534b-4beb-c2d1-3f2171a3d0b9"
      },
      "execution_count": 1,
      "outputs": [
        {
          "output_type": "stream",
          "name": "stdout",
          "text": [
            "2.12.0\n"
          ]
        }
      ]
    },
    {
      "cell_type": "code",
      "source": [
        "##tensorflow >2.0\n",
        "from tensorflow.keras.preprocessing.text import one_hot"
      ],
      "metadata": {
        "id": "k8QNvrfpcYpi"
      },
      "execution_count": 2,
      "outputs": []
    },
    {
      "cell_type": "code",
      "source": [
        "### sentences\n",
        "sent=[  'the glass of milk',\n",
        "     'the glass of juice',\n",
        "     'the cup of tea',\n",
        "    'I am a good boy',\n",
        "     'I am a good developer',\n",
        "     'understand the meaning of words',\n",
        "     'your videos are good']"
      ],
      "metadata": {
        "id": "KLCzlkJNcfTo"
      },
      "execution_count": 3,
      "outputs": []
    },
    {
      "cell_type": "code",
      "source": [
        "sent"
      ],
      "metadata": {
        "colab": {
          "base_uri": "https://localhost:8080/"
        },
        "id": "wRAd8N6CclEr",
        "outputId": "b68f3a4b-ac8d-4153-f346-99b4a780a103"
      },
      "execution_count": 4,
      "outputs": [
        {
          "output_type": "execute_result",
          "data": {
            "text/plain": [
              "['the glass of milk',\n",
              " 'the glass of juice',\n",
              " 'the cup of tea',\n",
              " 'I am a good boy',\n",
              " 'I am a good developer',\n",
              " 'understand the meaning of words',\n",
              " 'your videos are good']"
            ]
          },
          "metadata": {},
          "execution_count": 4
        }
      ]
    },
    {
      "cell_type": "code",
      "source": [
        "### Vocabulary size\n",
        "voc_size=500"
      ],
      "metadata": {
        "id": "ZRuAJTm3cmPn"
      },
      "execution_count": 5,
      "outputs": []
    },
    {
      "cell_type": "markdown",
      "source": [
        "### One Hot Representation"
      ],
      "metadata": {
        "id": "6176SGXMfcLJ"
      }
    },
    {
      "cell_type": "code",
      "source": [
        "onehot_repr=[one_hot(words,voc_size)for words in sent]\n",
        "print(onehot_repr)"
      ],
      "metadata": {
        "colab": {
          "base_uri": "https://localhost:8080/"
        },
        "id": "e2NAfx43cpWc",
        "outputId": "c4dc15c8-892a-4201-bd8f-6068eccab0d5"
      },
      "execution_count": 6,
      "outputs": [
        {
          "output_type": "stream",
          "name": "stdout",
          "text": [
            "[[148, 272, 65, 52], [148, 272, 65, 226], [148, 244, 65, 427], [248, 103, 90, 6, 416], [248, 103, 90, 6, 147], [281, 148, 193, 65, 250], [291, 426, 151, 6]]\n"
          ]
        }
      ]
    },
    {
      "cell_type": "markdown",
      "source": [
        "## Word Embedding Representation"
      ],
      "metadata": {
        "id": "eWcyrybqfn9B"
      }
    },
    {
      "cell_type": "code",
      "source": [
        "from tensorflow.keras.layers import Embedding\n",
        "from tensorflow.keras.preprocessing.sequence import pad_sequences\n",
        "from tensorflow.keras.models import Sequential\n",
        "import numpy as np"
      ],
      "metadata": {
        "id": "1vrP7VsocxLy"
      },
      "execution_count": 7,
      "outputs": []
    },
    {
      "cell_type": "code",
      "source": [
        "## pre padding\n",
        "sent_length=8\n",
        "embedded_docs=pad_sequences(onehot_repr,padding='pre',maxlen=sent_length)\n",
        "print(embedded_docs)"
      ],
      "metadata": {
        "colab": {
          "base_uri": "https://localhost:8080/"
        },
        "id": "vZxiiAIYc5lA",
        "outputId": "6750f765-c731-437f-ca26-3f624339a565"
      },
      "execution_count": 8,
      "outputs": [
        {
          "output_type": "stream",
          "name": "stdout",
          "text": [
            "[[  0   0   0   0 148 272  65  52]\n",
            " [  0   0   0   0 148 272  65 226]\n",
            " [  0   0   0   0 148 244  65 427]\n",
            " [  0   0   0 248 103  90   6 416]\n",
            " [  0   0   0 248 103  90   6 147]\n",
            " [  0   0   0 281 148 193  65 250]\n",
            " [  0   0   0   0 291 426 151   6]]\n"
          ]
        }
      ]
    },
    {
      "cell_type": "code",
      "source": [
        "## 10 feature dimesnions\n",
        "dim=10"
      ],
      "metadata": {
        "id": "93HgV2u5c9CI"
      },
      "execution_count": 9,
      "outputs": []
    },
    {
      "cell_type": "code",
      "source": [
        "model=Sequential()\n",
        "model.add(Embedding(voc_size,10,input_length=sent_length))\n",
        "model.compile('adam','mse')"
      ],
      "metadata": {
        "id": "QfboN0WQc_NM"
      },
      "execution_count": 10,
      "outputs": []
    },
    {
      "cell_type": "code",
      "source": [
        "model.summary()"
      ],
      "metadata": {
        "colab": {
          "base_uri": "https://localhost:8080/"
        },
        "id": "efUcc_oDdI98",
        "outputId": "e1052538-da12-40b4-d157-bd8f2e82a16a"
      },
      "execution_count": 11,
      "outputs": [
        {
          "output_type": "stream",
          "name": "stdout",
          "text": [
            "Model: \"sequential\"\n",
            "_________________________________________________________________\n",
            " Layer (type)                Output Shape              Param #   \n",
            "=================================================================\n",
            " embedding (Embedding)       (None, 8, 10)             5000      \n",
            "                                                                 \n",
            "=================================================================\n",
            "Total params: 5,000\n",
            "Trainable params: 5,000\n",
            "Non-trainable params: 0\n",
            "_________________________________________________________________\n"
          ]
        }
      ]
    },
    {
      "cell_type": "code",
      "source": [
        "##'the glass of milk',\n",
        "embedded_docs[0]"
      ],
      "metadata": {
        "colab": {
          "base_uri": "https://localhost:8080/"
        },
        "id": "4FqcKFoDdOz4",
        "outputId": "17816d11-e005-4fd0-f8f9-fe07539d1416"
      },
      "execution_count": 12,
      "outputs": [
        {
          "output_type": "execute_result",
          "data": {
            "text/plain": [
              "array([  0,   0,   0,   0, 148, 272,  65,  52], dtype=int32)"
            ]
          },
          "metadata": {},
          "execution_count": 12
        }
      ]
    },
    {
      "cell_type": "code",
      "source": [
        "model.predict(embedded_docs[0])"
      ],
      "metadata": {
        "colab": {
          "base_uri": "https://localhost:8080/"
        },
        "id": "qgKMm2WIdPpo",
        "outputId": "44bf5dda-613b-4d74-eb7f-5ecb66fb9af5"
      },
      "execution_count": 13,
      "outputs": [
        {
          "output_type": "stream",
          "name": "stdout",
          "text": [
            "1/1 [==============================] - 0s 106ms/step\n"
          ]
        },
        {
          "output_type": "execute_result",
          "data": {
            "text/plain": [
              "array([[ 0.00481602, -0.01161975,  0.01807276,  0.0190967 , -0.02044044,\n",
              "         0.0363566 , -0.02961726,  0.04091102,  0.03531969,  0.03817353],\n",
              "       [ 0.00481602, -0.01161975,  0.01807276,  0.0190967 , -0.02044044,\n",
              "         0.0363566 , -0.02961726,  0.04091102,  0.03531969,  0.03817353],\n",
              "       [ 0.00481602, -0.01161975,  0.01807276,  0.0190967 , -0.02044044,\n",
              "         0.0363566 , -0.02961726,  0.04091102,  0.03531969,  0.03817353],\n",
              "       [ 0.00481602, -0.01161975,  0.01807276,  0.0190967 , -0.02044044,\n",
              "         0.0363566 , -0.02961726,  0.04091102,  0.03531969,  0.03817353],\n",
              "       [ 0.03679992,  0.0208911 ,  0.03093903,  0.04492842,  0.00933522,\n",
              "        -0.01965214,  0.0260323 ,  0.01387313, -0.04132755,  0.0017639 ],\n",
              "       [ 0.0361214 ,  0.04680895,  0.01263603,  0.00080438, -0.01023686,\n",
              "        -0.04556028,  0.03555072, -0.03206185,  0.0018761 , -0.03426921],\n",
              "       [-0.00159112, -0.02620993,  0.02301918, -0.04178981, -0.02576407,\n",
              "         0.03824308,  0.0312815 ,  0.02936018, -0.01941633,  0.0291913 ],\n",
              "       [ 0.02428068,  0.03624872,  0.00059055, -0.00820402, -0.00156416,\n",
              "         0.04890766,  0.00292929, -0.01969875, -0.0205297 ,  0.04551208]],\n",
              "      dtype=float32)"
            ]
          },
          "metadata": {},
          "execution_count": 13
        }
      ]
    },
    {
      "cell_type": "code",
      "source": [
        "print(model.predict(embedded_docs))"
      ],
      "metadata": {
        "colab": {
          "base_uri": "https://localhost:8080/"
        },
        "id": "bRNSb27wdRR1",
        "outputId": "ea4e4c4a-0ad2-4d87-d20e-8c6870493317"
      },
      "execution_count": 14,
      "outputs": [
        {
          "output_type": "stream",
          "name": "stdout",
          "text": [
            "1/1 [==============================] - 0s 48ms/step\n",
            "[[[ 0.00481602 -0.01161975  0.01807276  0.0190967  -0.02044044\n",
            "    0.0363566  -0.02961726  0.04091102  0.03531969  0.03817353]\n",
            "  [ 0.00481602 -0.01161975  0.01807276  0.0190967  -0.02044044\n",
            "    0.0363566  -0.02961726  0.04091102  0.03531969  0.03817353]\n",
            "  [ 0.00481602 -0.01161975  0.01807276  0.0190967  -0.02044044\n",
            "    0.0363566  -0.02961726  0.04091102  0.03531969  0.03817353]\n",
            "  [ 0.00481602 -0.01161975  0.01807276  0.0190967  -0.02044044\n",
            "    0.0363566  -0.02961726  0.04091102  0.03531969  0.03817353]\n",
            "  [ 0.03679992  0.0208911   0.03093903  0.04492842  0.00933522\n",
            "   -0.01965214  0.0260323   0.01387313 -0.04132755  0.0017639 ]\n",
            "  [ 0.0361214   0.04680895  0.01263603  0.00080438 -0.01023686\n",
            "   -0.04556028  0.03555072 -0.03206185  0.0018761  -0.03426921]\n",
            "  [-0.00159112 -0.02620993  0.02301918 -0.04178981 -0.02576407\n",
            "    0.03824308  0.0312815   0.02936018 -0.01941633  0.0291913 ]\n",
            "  [ 0.02428068  0.03624872  0.00059055 -0.00820402 -0.00156416\n",
            "    0.04890766  0.00292929 -0.01969875 -0.0205297   0.04551208]]\n",
            "\n",
            " [[ 0.00481602 -0.01161975  0.01807276  0.0190967  -0.02044044\n",
            "    0.0363566  -0.02961726  0.04091102  0.03531969  0.03817353]\n",
            "  [ 0.00481602 -0.01161975  0.01807276  0.0190967  -0.02044044\n",
            "    0.0363566  -0.02961726  0.04091102  0.03531969  0.03817353]\n",
            "  [ 0.00481602 -0.01161975  0.01807276  0.0190967  -0.02044044\n",
            "    0.0363566  -0.02961726  0.04091102  0.03531969  0.03817353]\n",
            "  [ 0.00481602 -0.01161975  0.01807276  0.0190967  -0.02044044\n",
            "    0.0363566  -0.02961726  0.04091102  0.03531969  0.03817353]\n",
            "  [ 0.03679992  0.0208911   0.03093903  0.04492842  0.00933522\n",
            "   -0.01965214  0.0260323   0.01387313 -0.04132755  0.0017639 ]\n",
            "  [ 0.0361214   0.04680895  0.01263603  0.00080438 -0.01023686\n",
            "   -0.04556028  0.03555072 -0.03206185  0.0018761  -0.03426921]\n",
            "  [-0.00159112 -0.02620993  0.02301918 -0.04178981 -0.02576407\n",
            "    0.03824308  0.0312815   0.02936018 -0.01941633  0.0291913 ]\n",
            "  [-0.01185869  0.03679229  0.0014845  -0.04712873  0.01135186\n",
            "   -0.02745305 -0.02766142 -0.02117877  0.04489516  0.0223035 ]]\n",
            "\n",
            " [[ 0.00481602 -0.01161975  0.01807276  0.0190967  -0.02044044\n",
            "    0.0363566  -0.02961726  0.04091102  0.03531969  0.03817353]\n",
            "  [ 0.00481602 -0.01161975  0.01807276  0.0190967  -0.02044044\n",
            "    0.0363566  -0.02961726  0.04091102  0.03531969  0.03817353]\n",
            "  [ 0.00481602 -0.01161975  0.01807276  0.0190967  -0.02044044\n",
            "    0.0363566  -0.02961726  0.04091102  0.03531969  0.03817353]\n",
            "  [ 0.00481602 -0.01161975  0.01807276  0.0190967  -0.02044044\n",
            "    0.0363566  -0.02961726  0.04091102  0.03531969  0.03817353]\n",
            "  [ 0.03679992  0.0208911   0.03093903  0.04492842  0.00933522\n",
            "   -0.01965214  0.0260323   0.01387313 -0.04132755  0.0017639 ]\n",
            "  [ 0.04016543 -0.00502837  0.00105349 -0.02746492  0.02778789\n",
            "   -0.02440253 -0.03453903 -0.03562192 -0.00459505  0.02575184]\n",
            "  [-0.00159112 -0.02620993  0.02301918 -0.04178981 -0.02576407\n",
            "    0.03824308  0.0312815   0.02936018 -0.01941633  0.0291913 ]\n",
            "  [ 0.02175692  0.00160477 -0.0405898   0.00047912  0.04344622\n",
            "   -0.02589229 -0.03520655 -0.0095672  -0.01331393  0.0032248 ]]\n",
            "\n",
            " [[ 0.00481602 -0.01161975  0.01807276  0.0190967  -0.02044044\n",
            "    0.0363566  -0.02961726  0.04091102  0.03531969  0.03817353]\n",
            "  [ 0.00481602 -0.01161975  0.01807276  0.0190967  -0.02044044\n",
            "    0.0363566  -0.02961726  0.04091102  0.03531969  0.03817353]\n",
            "  [ 0.00481602 -0.01161975  0.01807276  0.0190967  -0.02044044\n",
            "    0.0363566  -0.02961726  0.04091102  0.03531969  0.03817353]\n",
            "  [-0.03407874 -0.03473075 -0.04771273  0.04627058  0.0061124\n",
            "   -0.03350915 -0.01201754  0.00970296  0.00366484  0.04260614]\n",
            "  [ 0.04342461 -0.02238259  0.01061076 -0.02898869 -0.02291269\n",
            "   -0.01237203 -0.00082427  0.0293065   0.01093952  0.00150551]\n",
            "  [-0.04061944 -0.00300056  0.03450433 -0.01768463  0.03310931\n",
            "    0.01281306  0.04681612 -0.01475797  0.00368526 -0.04713122]\n",
            "  [ 0.0469314   0.03739272 -0.03723471  0.03348808 -0.04827717\n",
            "    0.01567251  0.04217902  0.01357729  0.00151156 -0.00756743]\n",
            "  [-0.04065516 -0.00316327 -0.00605048 -0.04433305  0.03387998\n",
            "    0.02482948  0.02298433 -0.0147332  -0.04023219 -0.02581695]]\n",
            "\n",
            " [[ 0.00481602 -0.01161975  0.01807276  0.0190967  -0.02044044\n",
            "    0.0363566  -0.02961726  0.04091102  0.03531969  0.03817353]\n",
            "  [ 0.00481602 -0.01161975  0.01807276  0.0190967  -0.02044044\n",
            "    0.0363566  -0.02961726  0.04091102  0.03531969  0.03817353]\n",
            "  [ 0.00481602 -0.01161975  0.01807276  0.0190967  -0.02044044\n",
            "    0.0363566  -0.02961726  0.04091102  0.03531969  0.03817353]\n",
            "  [-0.03407874 -0.03473075 -0.04771273  0.04627058  0.0061124\n",
            "   -0.03350915 -0.01201754  0.00970296  0.00366484  0.04260614]\n",
            "  [ 0.04342461 -0.02238259  0.01061076 -0.02898869 -0.02291269\n",
            "   -0.01237203 -0.00082427  0.0293065   0.01093952  0.00150551]\n",
            "  [-0.04061944 -0.00300056  0.03450433 -0.01768463  0.03310931\n",
            "    0.01281306  0.04681612 -0.01475797  0.00368526 -0.04713122]\n",
            "  [ 0.0469314   0.03739272 -0.03723471  0.03348808 -0.04827717\n",
            "    0.01567251  0.04217902  0.01357729  0.00151156 -0.00756743]\n",
            "  [ 0.02591724 -0.02229048 -0.03042242 -0.02901391  0.00456197\n",
            "    0.0211208   0.00782045 -0.00892078  0.01660394 -0.01398994]]\n",
            "\n",
            " [[ 0.00481602 -0.01161975  0.01807276  0.0190967  -0.02044044\n",
            "    0.0363566  -0.02961726  0.04091102  0.03531969  0.03817353]\n",
            "  [ 0.00481602 -0.01161975  0.01807276  0.0190967  -0.02044044\n",
            "    0.0363566  -0.02961726  0.04091102  0.03531969  0.03817353]\n",
            "  [ 0.00481602 -0.01161975  0.01807276  0.0190967  -0.02044044\n",
            "    0.0363566  -0.02961726  0.04091102  0.03531969  0.03817353]\n",
            "  [-0.00988406 -0.02688935  0.0219521  -0.0172741   0.03560295\n",
            "   -0.02484914  0.03259387  0.03302189 -0.02468983 -0.04207387]\n",
            "  [ 0.03679992  0.0208911   0.03093903  0.04492842  0.00933522\n",
            "   -0.01965214  0.0260323   0.01387313 -0.04132755  0.0017639 ]\n",
            "  [-0.02136438 -0.02059515 -0.02735276  0.02155625 -0.00732832\n",
            "   -0.01358874  0.02359506  0.04688504  0.04728556 -0.00482923]\n",
            "  [-0.00159112 -0.02620993  0.02301918 -0.04178981 -0.02576407\n",
            "    0.03824308  0.0312815   0.02936018 -0.01941633  0.0291913 ]\n",
            "  [-0.00918672 -0.01356077 -0.03290836  0.0396389  -0.04818964\n",
            "    0.01686622  0.04841254  0.01704141 -0.04736185 -0.01344887]]\n",
            "\n",
            " [[ 0.00481602 -0.01161975  0.01807276  0.0190967  -0.02044044\n",
            "    0.0363566  -0.02961726  0.04091102  0.03531969  0.03817353]\n",
            "  [ 0.00481602 -0.01161975  0.01807276  0.0190967  -0.02044044\n",
            "    0.0363566  -0.02961726  0.04091102  0.03531969  0.03817353]\n",
            "  [ 0.00481602 -0.01161975  0.01807276  0.0190967  -0.02044044\n",
            "    0.0363566  -0.02961726  0.04091102  0.03531969  0.03817353]\n",
            "  [ 0.00481602 -0.01161975  0.01807276  0.0190967  -0.02044044\n",
            "    0.0363566  -0.02961726  0.04091102  0.03531969  0.03817353]\n",
            "  [ 0.02289608 -0.04526312 -0.01174883 -0.0038167   0.01169705\n",
            "    0.03571702  0.00059228 -0.01037977  0.04181489 -0.02775087]\n",
            "  [ 0.02322468  0.02025684  0.00217955  0.02250597  0.02866919\n",
            "    0.00517992  0.01257069  0.01638439  0.01521938  0.01281191]\n",
            "  [ 0.01115977 -0.00253674 -0.03151186  0.04474432  0.02328423\n",
            "    0.00809116  0.01969786 -0.00730697 -0.00040581 -0.00194089]\n",
            "  [ 0.0469314   0.03739272 -0.03723471  0.03348808 -0.04827717\n",
            "    0.01567251  0.04217902  0.01357729  0.00151156 -0.00756743]]]\n"
          ]
        }
      ]
    },
    {
      "cell_type": "code",
      "source": [
        "embedded_docs[0]"
      ],
      "metadata": {
        "colab": {
          "base_uri": "https://localhost:8080/"
        },
        "id": "GNoBmO5odTSo",
        "outputId": "f8816f09-4499-4d1d-a2e8-1404e684013b"
      },
      "execution_count": 15,
      "outputs": [
        {
          "output_type": "execute_result",
          "data": {
            "text/plain": [
              "array([  0,   0,   0,   0, 148, 272,  65,  52], dtype=int32)"
            ]
          },
          "metadata": {},
          "execution_count": 15
        }
      ]
    },
    {
      "cell_type": "code",
      "source": [
        "print(model.predict(embedded_docs)[0])"
      ],
      "metadata": {
        "colab": {
          "base_uri": "https://localhost:8080/"
        },
        "id": "h5oXcluldWir",
        "outputId": "d7cb09c5-b655-47b5-8649-7ae7801af9f6"
      },
      "execution_count": 16,
      "outputs": [
        {
          "output_type": "stream",
          "name": "stdout",
          "text": [
            "1/1 [==============================] - 0s 24ms/step\n",
            "[[ 0.00481602 -0.01161975  0.01807276  0.0190967  -0.02044044  0.0363566\n",
            "  -0.02961726  0.04091102  0.03531969  0.03817353]\n",
            " [ 0.00481602 -0.01161975  0.01807276  0.0190967  -0.02044044  0.0363566\n",
            "  -0.02961726  0.04091102  0.03531969  0.03817353]\n",
            " [ 0.00481602 -0.01161975  0.01807276  0.0190967  -0.02044044  0.0363566\n",
            "  -0.02961726  0.04091102  0.03531969  0.03817353]\n",
            " [ 0.00481602 -0.01161975  0.01807276  0.0190967  -0.02044044  0.0363566\n",
            "  -0.02961726  0.04091102  0.03531969  0.03817353]\n",
            " [ 0.03679992  0.0208911   0.03093903  0.04492842  0.00933522 -0.01965214\n",
            "   0.0260323   0.01387313 -0.04132755  0.0017639 ]\n",
            " [ 0.0361214   0.04680895  0.01263603  0.00080438 -0.01023686 -0.04556028\n",
            "   0.03555072 -0.03206185  0.0018761  -0.03426921]\n",
            " [-0.00159112 -0.02620993  0.02301918 -0.04178981 -0.02576407  0.03824308\n",
            "   0.0312815   0.02936018 -0.01941633  0.0291913 ]\n",
            " [ 0.02428068  0.03624872  0.00059055 -0.00820402 -0.00156416  0.04890766\n",
            "   0.00292929 -0.01969875 -0.0205297   0.04551208]]\n"
          ]
        }
      ]
    },
    {
      "cell_type": "code",
      "source": [],
      "metadata": {
        "id": "rQTJVKetdYzm"
      },
      "execution_count": null,
      "outputs": []
    }
  ]
}